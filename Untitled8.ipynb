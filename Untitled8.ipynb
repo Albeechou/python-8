{
 "cells": [
  {
   "cell_type": "code",
   "execution_count": 29,
   "id": "52b4ff05-6dbb-4788-b4e3-fe9a0289ff96",
   "metadata": {},
   "outputs": [],
   "source": [
    "from PIL import Image\n",
    "pic=Image.open('C:/qq/d123.jpg')"
   ]
  },
  {
   "cell_type": "code",
   "execution_count": 31,
   "id": "f4fb3504-6ecf-46fb-b4fd-28b7e5863e91",
   "metadata": {},
   "outputs": [
    {
     "name": "stdout",
     "output_type": "stream",
     "text": [
      "圖片寬度: 400\n",
      "圖片高度: 400\n"
     ]
    }
   ],
   "source": [
    "print('圖片寬度:',pic.width)\n",
    "print('圖片高度:',pic.height)"
   ]
  },
  {
   "cell_type": "code",
   "execution_count": 33,
   "id": "2ef7c12f-f3b6-4795-a4ce-9eca1c9314a3",
   "metadata": {},
   "outputs": [
    {
     "name": "stdout",
     "output_type": "stream",
     "text": [
      "圖片檔案格式: JPEG\n",
      "圖片色彩模式: RGB\n",
      "圖片大小: (400, 400)\n"
     ]
    }
   ],
   "source": [
    "print('圖片檔案格式:',pic.format)\n",
    "print('圖片色彩模式:',pic.mode)\n",
    "print('圖片大小:',pic.size)"
   ]
  },
  {
   "cell_type": "code",
   "execution_count": 35,
   "id": "313ee3df-aeb3-483e-b4c1-cd230b68a158",
   "metadata": {},
   "outputs": [],
   "source": [
    "pic.show()"
   ]
  },
  {
   "cell_type": "code",
   "execution_count": 36,
   "id": "12d6178c-0dcd-404e-a429-fa4dc0101bf7",
   "metadata": {},
   "outputs": [
    {
     "name": "stdout",
     "output_type": "stream",
     "text": [
      "原本的圖片色彩模式: RGB\n",
      "轉換黑白後的圖片色彩模式: 1\n"
     ]
    }
   ],
   "source": [
    "print('原本的圖片色彩模式:',pic.mode)\n",
    "new_pic=pic.convert('1')\n",
    "new_pic.show()\n",
    "print('轉換黑白後的圖片色彩模式:',new_pic.mode)"
   ]
  },
  {
   "cell_type": "code",
   "execution_count": 37,
   "id": "66313ef5-804a-4cd0-ac05-af5c7bcac3d6",
   "metadata": {},
   "outputs": [],
   "source": [
    "new_pic=pic.rotate(30)\n",
    "new_pic.show()"
   ]
  },
  {
   "cell_type": "code",
   "execution_count": 38,
   "id": "a2a36527-4977-4721-85e6-4f3b56edcd24",
   "metadata": {},
   "outputs": [],
   "source": [
    "new_pic2=pic.rotate(-30)\n",
    "new_pic2.show()"
   ]
  },
  {
   "cell_type": "code",
   "execution_count": 39,
   "id": "c4892d4f-7e45-4154-adcf-e2a35f2afa5e",
   "metadata": {},
   "outputs": [],
   "source": [
    "from PIL import Image\n",
    "from PIL import ImageFilter\n",
    "pic=Image.open('C:/qq/d123.jpg')"
   ]
  },
  {
   "cell_type": "code",
   "execution_count": 40,
   "id": "c920e7e3-adcc-4d99-8451-da8f07c3039b",
   "metadata": {},
   "outputs": [],
   "source": [
    "new_pic=pic.filter(ImageFilter.CONTOUR)\n",
    "new_pic.save('C:/qq/d123.jpg')\n",
    "new_pic.show()"
   ]
  },
  {
   "cell_type": "code",
   "execution_count": 41,
   "id": "2ae92886-4d02-492e-aaab-045dd94f931b",
   "metadata": {},
   "outputs": [
    {
     "name": "stdout",
     "output_type": "stream",
     "text": [
      "原圖大小: (400, 400)\n",
      "縮放後圖形大小: (400, 400)\n"
     ]
    }
   ],
   "source": [
    "print('原圖大小:', pic.size)\n",
    "new_pic=pic.resize((400,400))\n",
    "print('縮放後圖形大小:', new_pic.size)\n",
    "new_pic.save('C:/qq/d123.jpg')\n",
    "new_pic.show()"
   ]
  },
  {
   "cell_type": "code",
   "execution_count": 43,
   "id": "3221fc4f-ffac-42bc-89fe-9c14ae560d9c",
   "metadata": {},
   "outputs": [],
   "source": [
    "from PIL import Image, ImageFont, ImageDraw\n",
    "pic=Image.open('C:/qq/d123.jpg')"
   ]
  },
  {
   "cell_type": "code",
   "execution_count": 44,
   "id": "b8b3701b-600f-4eb6-a2c5-478c53fe52b4",
   "metadata": {},
   "outputs": [],
   "source": [
    "t_font=ImageFont.truetype('C://Windows//Fonts//Aeial//arial.ttf', 30)\n",
    "draw=ImageDraw.Draw(pic)\n",
    "\n",
    "draw.text((20,30), 'TAIWAN', font=t_font, fill=(255,0,0,255))\n",
    "draw.text((20,100), 'soup dumpling', font=t_font, fill=(0,255,0,255))\n",
    "pic.show()"
   ]
  }
 ],
 "metadata": {
  "kernelspec": {
   "display_name": "Python 3 (ipykernel)",
   "language": "python",
   "name": "python3"
  },
  "language_info": {
   "codemirror_mode": {
    "name": "ipython",
    "version": 3
   },
   "file_extension": ".py",
   "mimetype": "text/x-python",
   "name": "python",
   "nbconvert_exporter": "python",
   "pygments_lexer": "ipython3",
   "version": "3.11.7"
  }
 },
 "nbformat": 4,
 "nbformat_minor": 5
}
